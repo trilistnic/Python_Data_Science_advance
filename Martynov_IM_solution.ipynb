{
 "cells": [
  {
   "cell_type": "markdown",
   "id": "d07506ee",
   "metadata": {},
   "source": [
    "# <center>Курсовая работа<center>"
   ]
  },
  {
   "cell_type": "markdown",
   "id": "c5b1f818",
   "metadata": {},
   "source": [
    "### Подключение библиотек и скриптов"
   ]
  },
  {
   "cell_type": "markdown",
   "id": "24953f67",
   "metadata": {},
   "source": [
    "Если не установлено, то:\n",
    "\n",
    "!pip install xgboost\n",
    "\n",
    "!pip install lightgbm\n",
    "\n",
    "!pip install catboost"
   ]
  },
  {
   "cell_type": "code",
   "execution_count": 1,
   "id": "08fed78b",
   "metadata": {},
   "outputs": [],
   "source": [
    "import pandas as pd\n",
    "import numpy as np\n",
    "import pickle\n",
    "import random\n",
    "\n",
    "from sklearn.preprocessing import StandardScaler, MinMaxScaler\n",
    "from sklearn.model_selection import train_test_split, ShuffleSplit, cross_val_score, learning_curve\n",
    "from sklearn.metrics import classification_report, f1_score, precision_score, recall_score\n",
    "from sklearn.model_selection import KFold, GridSearchCV, RandomizedSearchCV\n",
    "import xgboost as xgb, lightgbm as lgbm, catboost as catb\n",
    "from sklearn.linear_model import LogisticRegression\n",
    "from sklearn.neighbors import KNeighborsClassifier\n",
    "\n",
    "from scipy.stats import shapiro\n",
    "from scipy.stats import probplot\n",
    "from scipy.stats import ttest_ind, mannwhitneyu\n",
    "from scipy.stats import chi2_contingency\n",
    "from statsmodels.stats.weightstats import zconfint\n",
    "\n",
    "import seaborn as sns\n",
    "from matplotlib import pyplot as plt\n",
    "from matplotlib import style\n",
    "style.use('fivethirtyeight')\n",
    "%matplotlib inline"
   ]
  },
  {
   "cell_type": "code",
   "execution_count": 2,
   "id": "e6d9562a",
   "metadata": {},
   "outputs": [],
   "source": [
    "import warnings\n",
    "warnings.simplefilter('ignore')"
   ]
  },
  {
   "cell_type": "code",
   "execution_count": 3,
   "id": "9aed4dca",
   "metadata": {},
   "outputs": [],
   "source": [
    "def get_classification_report(y_train_true, y_train_pred, y_test_true, y_test_pred):\n",
    "    print('TRAIN\\n\\n' + classification_report(y_train_true, y_train_pred))\n",
    "    print('TEST\\n\\n' + classification_report(y_test_true, y_test_pred))\n",
    "    print('CONFUSION MATRIX\\n')\n",
    "    print(pd.crosstab(y_test_true, y_test_pred))"
   ]
  },
  {
   "cell_type": "code",
   "execution_count": 4,
   "id": "b0f69226",
   "metadata": {},
   "outputs": [],
   "source": [
    "def balance_df_by_target(df, target_name):\n",
    "\n",
    "    target_counts = df[target_name].value_counts()\n",
    "\n",
    "    major_class_name = target_counts.argmax()\n",
    "    minor_class_name = target_counts.argmin()\n",
    "\n",
    "    disbalance_coeff = int(target_counts[major_class_name] / target_counts[minor_class_name]) - 1\n",
    "\n",
    "    for i in range(disbalance_coeff):\n",
    "        sample = df[df[target_name] == minor_class_name].sample(target_counts[minor_class_name])\n",
    "        df = df.append(sample, ignore_index=True)\n",
    "\n",
    "    return df.sample(frac=1) "
   ]
  },
  {
   "cell_type": "code",
   "execution_count": 7,
   "id": "cb42ff0c",
   "metadata": {},
   "outputs": [],
   "source": [
    "def show_feature_importances(feature_names, feature_importances, get_top=None):\n",
    "    feature_importances = pd.DataFrame({'feature': feature_names, 'importance': feature_importances})\n",
    "    feature_importances = feature_importances.sort_values('importance', ascending=False)\n",
    "       \n",
    "    plt.figure(figsize = (20, len(feature_importances) * 0.355))\n",
    "    \n",
    "    sns.barplot(feature_importances['importance'], feature_importances['feature'])\n",
    "    \n",
    "    plt.xlabel('Importance')\n",
    "    plt.title('Importance of features')\n",
    "    plt.show()\n",
    "    \n",
    "    if get_top is not None:\n",
    "        return feature_importances['feature'][:get_top].tolist()"
   ]
  },
  {
   "cell_type": "code",
   "execution_count": 8,
   "id": "85b5dfb4",
   "metadata": {},
   "outputs": [],
   "source": [
    "#Функция обрабатывает пропущенные наблюдения.\n",
    "def isna_values(df):\n",
    "\n",
    "    isna_values = df.isna().sum()\n",
    "    isna_values_perc = 100 * isna_values / len(df)\n",
    "    table = pd.concat([isna_values, isna_values_perc], axis=1)\n",
    "    table_columns = table.rename(columns = {0: 'Количество пропущенных', 1: '%'})\n",
    "    table_columns = table_columns[table_columns.iloc[:,1] != 0].sort_values('%', ascending=False).round(1)\n",
    "    \n",
    "    return table_columns"
   ]
  },
  {
   "cell_type": "code",
   "execution_count": 391,
   "id": "27cb7f62",
   "metadata": {},
   "outputs": [],
   "source": [
    "# Функция обработки признака Home Ownership (уменьшение количества классов и изменение на численный признак)\n",
    "def fix_home_ownership(df):\n",
    "    \n",
    "    column = 'Home Ownership'\n",
    "    \n",
    "    df.loc[df[column] == 'Have Mortgage', column] = 'Home Mortgage'\n",
    "    df = pd.concat([df, pd.get_dummies(df[column])], axis=1)\n",
    "    \n",
    "    return df"
   ]
  },
  {
   "cell_type": "code",
   "execution_count": 385,
   "id": "f16a0a65",
   "metadata": {},
   "outputs": [],
   "source": [
    "# Функция обработки признака Purpose для изменение на численный признак\n",
    "def fix_purpose(df):\n",
    "    \n",
    "    column = 'Purpose'\n",
    "    \n",
    "    df[column] = df[column].replace({'renewable energy': 'business loan'})\n",
    "    df = pd.concat([df, pd.get_dummies(df[column])], axis=1)\n",
    "    \n",
    "    return df"
   ]
  },
  {
   "cell_type": "code",
   "execution_count": 11,
   "id": "f6dcb0a5",
   "metadata": {},
   "outputs": [],
   "source": [
    "# Функция конвертирования категориального призака 'Years in current job' в численный\n",
    "def fix_years_in_current_job(df):\n",
    "\n",
    "    column = 'Years in current job'\n",
    "    \n",
    "    for i in df[column].unique().tolist():\n",
    "        if i == i:\n",
    "            if i == '< 1 year':\n",
    "                df.loc[df[column] == i, column] = 0\n",
    "            else:\n",
    "                df.loc[df[column] == i, column] = int(''.join(filter(str.isdigit, i)))\n",
    "                \n",
    "    df[column].fillna(df[column].median(), inplace=True)\n",
    "    \n",
    "    return df"
   ]
  },
  {
   "cell_type": "code",
   "execution_count": 392,
   "id": "25c8590f",
   "metadata": {},
   "outputs": [],
   "source": [
    "# Функция конвертации Term из категориального признака к бинарным значениям.\n",
    "def fix_term(df):\n",
    "\n",
    "    column = 'Term'\n",
    "    \n",
    "    df = pd.concat([df, pd.get_dummies(df[column])], axis=1)\n",
    "    \n",
    "    return df"
   ]
  },
  {
   "cell_type": "code",
   "execution_count": 402,
   "id": "137df89e",
   "metadata": {},
   "outputs": [],
   "source": [
    "# Функция обработки Current Loan Amount от выбросов \n",
    "def fix_current_loan_amount(df):\n",
    "    \n",
    "    column = 'Current Loan Amount'\n",
    "    column2 = 'Purpose'\n",
    "    column3 = 'Term'\n",
    "    new_column = 'Current_Loan_Amount_Med'\n",
    "    value = df[column].max()\n",
    "    \n",
    "    df[new_column] = df[column]\n",
    "    df.loc[df[column] == value, new_column] = df.groupby([column2, column3])[column].transform(lambda x: x.median())\n",
    "    \n",
    "    return df"
   ]
  },
  {
   "cell_type": "code",
   "execution_count": 15,
   "id": "bb8746ac",
   "metadata": {},
   "outputs": [],
   "source": [
    "# Функция обработки Maximum Open Credit от выбросов\n",
    "def fix_maximum_open_credit(df):\n",
    "    \n",
    "    column = 'Maximum Open Credit'\n",
    "    column2 = 'Current_Loan_Amount_Med'\n",
    "    value = df[column].nlargest(5).min()\n",
    "    \n",
    "    df.loc[(df[column] >= value), column] = df[column].quantile(.975)\n",
    "    df.loc[(df[column] == 0), column] = df[column2]\n",
    "    \n",
    "    return df"
   ]
  },
  {
   "cell_type": "code",
   "execution_count": 16,
   "id": "00f765e9",
   "metadata": {},
   "outputs": [],
   "source": [
    "# Функция обработки Credit Score от выбросов и пропусков\n",
    "def fix_credit_score(df):\n",
    "    \n",
    "    column = 'Credit Score'\n",
    "    new_column = 'Credit_Score_exist'\n",
    "    value = 850\n",
    "\n",
    "    df.loc[df[column] > value, column] = df[column]/10\n",
    "    df[new_column] = 0\n",
    "    df.loc[df[column].isnull(), new_column] = 1\n",
    "    df[column].fillna(df[column].median(), inplace=True)\n",
    "\n",
    "    return df"
   ]
  },
  {
   "cell_type": "code",
   "execution_count": 17,
   "id": "42c00745",
   "metadata": {},
   "outputs": [],
   "source": [
    "# Функция обработки Monthly Debt от выбросов\n",
    "def fix_monthly_debt(df):\n",
    "    \n",
    "    column = 'Monthly Debt'\n",
    "    value = 0\n",
    "\n",
    "    df.loc[(df[column] == value), column] = df[column].median()\n",
    "\n",
    "    return df"
   ]
  },
  {
   "cell_type": "code",
   "execution_count": 18,
   "id": "7d037ee4",
   "metadata": {},
   "outputs": [],
   "source": [
    "# Функция обработки пропусков Bankruptcies\n",
    "def fix_bankruptcies(df):\n",
    "    \n",
    "    column = 'Bankruptcies'\n",
    "    column2 = 'Number of Credit Problems'\n",
    "    \n",
    "    df.loc[df[column].isna(), column] = df.groupby([column2])[column].transform(lambda x: x.median())\n",
    "    \n",
    "    return df"
   ]
  },
  {
   "cell_type": "code",
   "execution_count": 19,
   "id": "178363d9",
   "metadata": {},
   "outputs": [],
   "source": [
    "# Функция обработки пропусков  Annual Income\n",
    "def fix_annual_income(df):\n",
    "    \n",
    "    column = 'Annual Income'\n",
    "    column2 = 'Monthly Debt'\n",
    "    new_column = 'Annual_Income_exist'\n",
    "    \n",
    "    df[new_column] = 0\n",
    "    df.loc[df[column].isna(), new_column] = 1\n",
    "    df.loc[df[column].isna(), column] = df.groupby([column2])[column].transform(lambda x: x.median())\n",
    "    df[column].fillna(int(df[column].median()), inplace=True)\n",
    "    \n",
    "    return df"
   ]
  },
  {
   "cell_type": "code",
   "execution_count": 20,
   "id": "a2346b6d",
   "metadata": {},
   "outputs": [],
   "source": [
    "# Функция обработки пропусков Months since last delinquent\n",
    "def fix_months_since_last_delinquent(df):\n",
    "    \n",
    "    column = 'Months since last delinquent'\n",
    "    new_column = 'Months_since_last_delinquent_exist'\n",
    "    value = 0\n",
    "    \n",
    "    df[new_column] = 0\n",
    "    df.loc[df[column].isna(), new_column] = 1\n",
    "    df.loc[df[column].isna(), column] = value\n",
    "    \n",
    "    return df"
   ]
  },
  {
   "cell_type": "code",
   "execution_count": 56,
   "id": "66408b4d",
   "metadata": {},
   "outputs": [],
   "source": [
    "# Функция оптимизации типа наблюдений из float в int\n",
    "def isint(df): \n",
    "\n",
    "    for column in df.select_dtypes(include = ['int64', 'float64', 'uint8']).columns.tolist():\n",
    "        count = 0\n",
    "        try:\n",
    "            for number in df[column].tolist():\n",
    "                if float(number) != int(number):\n",
    "                    count += 1\n",
    "                if count == 0:\n",
    "                    df[column] = df[column].astype(int)\n",
    "        except ValueError:\n",
    "            print(f'Есть пропуски в {column}, невозможно обработать')\n",
    "            \n",
    "    return df"
   ]
  },
  {
   "cell_type": "code",
   "execution_count": 23,
   "id": "3c1dddab",
   "metadata": {},
   "outputs": [],
   "source": [
    "# Функция конвертации из object в int\n",
    "def categorial(df): \n",
    "\n",
    "    value = 'object'\n",
    "    CAT_FEATURE_NAMES = df.select_dtypes(include = value).columns.tolist()\n",
    "    \n",
    "    for column in CAT_FEATURE_NAMES:\n",
    "        df[column] = pd.Categorical(df[column])\n",
    "            \n",
    "    return df"
   ]
  },
  {
   "cell_type": "code",
   "execution_count": 401,
   "id": "27386f1e",
   "metadata": {},
   "outputs": [],
   "source": [
    "# Построение модели\n",
    "def Preprocessing(df):\n",
    "    df = fix_home_ownership(df)\n",
    "    df = fix_purpose(df)\n",
    "    df = fix_years_in_current_job(df)\n",
    "    df = fix_term(df)\n",
    "    df = fix_current_loan_amount(df)\n",
    "    df = fix_maximum_open_credit(df)\n",
    "    df = fix_credit_score(df)\n",
    "    df = fix_monthly_debt(df)\n",
    "    df = fix_annual_income(df)\n",
    "    df = fix_bankruptcies(df)\n",
    "    df = fix_months_since_last_delinquent(df)\n",
    "    df = isint(df)\n",
    "    df = categorial(df)\n",
    "    return df"
   ]
  },
  {
   "cell_type": "code",
   "execution_count": 393,
   "id": "923f2084",
   "metadata": {},
   "outputs": [],
   "source": [
    "# Функция отбора признаков\n",
    "def feature_split(df):\n",
    "    def getName(arg):\n",
    "        gl = globals().copy()\n",
    "        for i in gl:\n",
    "            if gl[i] is arg:\n",
    "                return i\n",
    "    ALL = [TARGET_NAME, BASE_FEATURE_NAMES, NEW_FEATURE_NAMES, CAT_FEATURE_NAMES, NUM_FEATURE_NAMES]\n",
    "\n",
    "    for features in ALL:\n",
    "        if features == ALL[0]:\n",
    "            print(getName(features) + '\\n' + '\\n\\n' + str(features) + '\\n' + '*' * 100 + '\\n')\n",
    "        else:\n",
    "            print(getName(features) + '\\n' + str(df[features].shape[1]) + '\\n\\n' + str(features) + '\\n' + '*' * 100 + '\\n')"
   ]
  },
  {
   "cell_type": "markdown",
   "id": "67da3d1a",
   "metadata": {},
   "source": [
    "### Загрузка данных"
   ]
  },
  {
   "cell_type": "code",
   "execution_count": 26,
   "id": "f5bfed92",
   "metadata": {},
   "outputs": [],
   "source": [
    "# input\n",
    "TRAIN_DATASET_PATH = './course_project_train.csv'\n",
    "TEST_DATASET_PATH = './course_project_test.csv'\n",
    "\n",
    "df_train = pd.read_csv(TRAIN_DATASET_PATH)\n",
    "df_test = pd.read_csv(TEST_DATASET_PATH)\n",
    "\n",
    "# output\n",
    "MODEL_FILE_PATH = './model.pkl'"
   ]
  },
  {
   "cell_type": "markdown",
   "id": "223503b7",
   "metadata": {},
   "source": [
    "### Описание датасета\n",
    "* **Home Ownership** - домовладение\n",
    "* **Annual Income** - годовой доход\n",
    "* **Years in current job** - количество лет на текущем месте работы\n",
    "* **Tax Liens** - налоговые обременения\n",
    "* **Number of Open Accounts** - количество открытых счетов\n",
    "* **Years of Credit History** - количество лет кредитной истории\n",
    "* **Maximum Open Credit** - наибольший открытый кредит\n",
    "* **Number of Credit Problems** - количество проблем с кредитом\n",
    "* **Months since last delinquent** - количество месяцев с последней просрочки платежа\n",
    "* **Bankruptcies** - банкротства\n",
    "* **Purpose** - цель кредита\n",
    "* **Term** - срок кредита\n",
    "* **Current Loan Amount** - текущая сумма кредита\n",
    "* **Current Credit Balance** - текущий кредитный баланс\n",
    "* **Monthly Debt** - ежемесячный долг\n",
    "* **Credit Score** - кредитный рейтинг\n",
    "* **Credit Default** - факт невыполнения кредитных обязательств (0 - погашен вовремя, 1 - просрочка)"
   ]
  },
  {
   "cell_type": "code",
   "execution_count": 27,
   "id": "79346b8d",
   "metadata": {},
   "outputs": [
    {
     "data": {
      "text/html": [
       "<div>\n",
       "<style scoped>\n",
       "    .dataframe tbody tr th:only-of-type {\n",
       "        vertical-align: middle;\n",
       "    }\n",
       "\n",
       "    .dataframe tbody tr th {\n",
       "        vertical-align: top;\n",
       "    }\n",
       "\n",
       "    .dataframe thead th {\n",
       "        text-align: right;\n",
       "    }\n",
       "</style>\n",
       "<table border=\"1\" class=\"dataframe\">\n",
       "  <thead>\n",
       "    <tr style=\"text-align: right;\">\n",
       "      <th></th>\n",
       "      <th>Home Ownership</th>\n",
       "      <th>Annual Income</th>\n",
       "      <th>Years in current job</th>\n",
       "      <th>Tax Liens</th>\n",
       "      <th>Number of Open Accounts</th>\n",
       "      <th>Years of Credit History</th>\n",
       "      <th>Maximum Open Credit</th>\n",
       "      <th>Number of Credit Problems</th>\n",
       "      <th>Months since last delinquent</th>\n",
       "      <th>Bankruptcies</th>\n",
       "      <th>Purpose</th>\n",
       "      <th>Term</th>\n",
       "      <th>Current Loan Amount</th>\n",
       "      <th>Current Credit Balance</th>\n",
       "      <th>Monthly Debt</th>\n",
       "      <th>Credit Score</th>\n",
       "      <th>Credit Default</th>\n",
       "    </tr>\n",
       "  </thead>\n",
       "  <tbody>\n",
       "    <tr>\n",
       "      <th>0</th>\n",
       "      <td>Own Home</td>\n",
       "      <td>482087.0</td>\n",
       "      <td>NaN</td>\n",
       "      <td>0.0</td>\n",
       "      <td>11.0</td>\n",
       "      <td>26.3</td>\n",
       "      <td>685960.0</td>\n",
       "      <td>1.0</td>\n",
       "      <td>NaN</td>\n",
       "      <td>1.0</td>\n",
       "      <td>debt consolidation</td>\n",
       "      <td>Short Term</td>\n",
       "      <td>99999999.0</td>\n",
       "      <td>47386.0</td>\n",
       "      <td>7914.0</td>\n",
       "      <td>749.0</td>\n",
       "      <td>0</td>\n",
       "    </tr>\n",
       "    <tr>\n",
       "      <th>1</th>\n",
       "      <td>Own Home</td>\n",
       "      <td>1025487.0</td>\n",
       "      <td>10+ years</td>\n",
       "      <td>0.0</td>\n",
       "      <td>15.0</td>\n",
       "      <td>15.3</td>\n",
       "      <td>1181730.0</td>\n",
       "      <td>0.0</td>\n",
       "      <td>NaN</td>\n",
       "      <td>0.0</td>\n",
       "      <td>debt consolidation</td>\n",
       "      <td>Long Term</td>\n",
       "      <td>264968.0</td>\n",
       "      <td>394972.0</td>\n",
       "      <td>18373.0</td>\n",
       "      <td>737.0</td>\n",
       "      <td>1</td>\n",
       "    </tr>\n",
       "    <tr>\n",
       "      <th>2</th>\n",
       "      <td>Home Mortgage</td>\n",
       "      <td>751412.0</td>\n",
       "      <td>8 years</td>\n",
       "      <td>0.0</td>\n",
       "      <td>11.0</td>\n",
       "      <td>35.0</td>\n",
       "      <td>1182434.0</td>\n",
       "      <td>0.0</td>\n",
       "      <td>NaN</td>\n",
       "      <td>0.0</td>\n",
       "      <td>debt consolidation</td>\n",
       "      <td>Short Term</td>\n",
       "      <td>99999999.0</td>\n",
       "      <td>308389.0</td>\n",
       "      <td>13651.0</td>\n",
       "      <td>742.0</td>\n",
       "      <td>0</td>\n",
       "    </tr>\n",
       "    <tr>\n",
       "      <th>3</th>\n",
       "      <td>Own Home</td>\n",
       "      <td>805068.0</td>\n",
       "      <td>6 years</td>\n",
       "      <td>0.0</td>\n",
       "      <td>8.0</td>\n",
       "      <td>22.5</td>\n",
       "      <td>147400.0</td>\n",
       "      <td>1.0</td>\n",
       "      <td>NaN</td>\n",
       "      <td>1.0</td>\n",
       "      <td>debt consolidation</td>\n",
       "      <td>Short Term</td>\n",
       "      <td>121396.0</td>\n",
       "      <td>95855.0</td>\n",
       "      <td>11338.0</td>\n",
       "      <td>694.0</td>\n",
       "      <td>0</td>\n",
       "    </tr>\n",
       "    <tr>\n",
       "      <th>4</th>\n",
       "      <td>Rent</td>\n",
       "      <td>776264.0</td>\n",
       "      <td>8 years</td>\n",
       "      <td>0.0</td>\n",
       "      <td>13.0</td>\n",
       "      <td>13.6</td>\n",
       "      <td>385836.0</td>\n",
       "      <td>1.0</td>\n",
       "      <td>NaN</td>\n",
       "      <td>0.0</td>\n",
       "      <td>debt consolidation</td>\n",
       "      <td>Short Term</td>\n",
       "      <td>125840.0</td>\n",
       "      <td>93309.0</td>\n",
       "      <td>7180.0</td>\n",
       "      <td>719.0</td>\n",
       "      <td>0</td>\n",
       "    </tr>\n",
       "  </tbody>\n",
       "</table>\n",
       "</div>"
      ],
      "text/plain": [
       "  Home Ownership  Annual Income Years in current job  Tax Liens  \\\n",
       "0       Own Home       482087.0                  NaN        0.0   \n",
       "1       Own Home      1025487.0            10+ years        0.0   \n",
       "2  Home Mortgage       751412.0              8 years        0.0   \n",
       "3       Own Home       805068.0              6 years        0.0   \n",
       "4           Rent       776264.0              8 years        0.0   \n",
       "\n",
       "   Number of Open Accounts  Years of Credit History  Maximum Open Credit  \\\n",
       "0                     11.0                     26.3             685960.0   \n",
       "1                     15.0                     15.3            1181730.0   \n",
       "2                     11.0                     35.0            1182434.0   \n",
       "3                      8.0                     22.5             147400.0   \n",
       "4                     13.0                     13.6             385836.0   \n",
       "\n",
       "   Number of Credit Problems  Months since last delinquent  Bankruptcies  \\\n",
       "0                        1.0                           NaN           1.0   \n",
       "1                        0.0                           NaN           0.0   \n",
       "2                        0.0                           NaN           0.0   \n",
       "3                        1.0                           NaN           1.0   \n",
       "4                        1.0                           NaN           0.0   \n",
       "\n",
       "              Purpose        Term  Current Loan Amount  \\\n",
       "0  debt consolidation  Short Term           99999999.0   \n",
       "1  debt consolidation   Long Term             264968.0   \n",
       "2  debt consolidation  Short Term           99999999.0   \n",
       "3  debt consolidation  Short Term             121396.0   \n",
       "4  debt consolidation  Short Term             125840.0   \n",
       "\n",
       "   Current Credit Balance  Monthly Debt  Credit Score  Credit Default  \n",
       "0                 47386.0        7914.0         749.0               0  \n",
       "1                394972.0       18373.0         737.0               1  \n",
       "2                308389.0       13651.0         742.0               0  \n",
       "3                 95855.0       11338.0         694.0               0  \n",
       "4                 93309.0        7180.0         719.0               0  "
      ]
     },
     "execution_count": 27,
     "metadata": {},
     "output_type": "execute_result"
    }
   ],
   "source": [
    "df_train.head()"
   ]
  },
  {
   "cell_type": "code",
   "execution_count": 28,
   "id": "83b2a915",
   "metadata": {},
   "outputs": [
    {
     "name": "stdout",
     "output_type": "stream",
     "text": [
      "Строк в трейне: 7500, Столбцов в трейне: 17\n",
      "Строк в тесте: 2500, Столбцов в тесте: 16\n"
     ]
    }
   ],
   "source": [
    "print(f'Строк в трейне: {df_train.shape[0]}, Столбцов в трейне: {df_train.shape[1]}')\n",
    "print(f'Строк в тесте: {df_test.shape[0]}, Столбцов в тесте: {df_test.shape[1]}')"
   ]
  },
  {
   "cell_type": "code",
   "execution_count": 29,
   "id": "540f5840",
   "metadata": {},
   "outputs": [
    {
     "name": "stdout",
     "output_type": "stream",
     "text": [
      "<class 'pandas.core.frame.DataFrame'>\n",
      "RangeIndex: 7500 entries, 0 to 7499\n",
      "Data columns (total 17 columns):\n",
      " #   Column                        Non-Null Count  Dtype  \n",
      "---  ------                        --------------  -----  \n",
      " 0   Home Ownership                7500 non-null   object \n",
      " 1   Annual Income                 5943 non-null   float64\n",
      " 2   Years in current job          7129 non-null   object \n",
      " 3   Tax Liens                     7500 non-null   float64\n",
      " 4   Number of Open Accounts       7500 non-null   float64\n",
      " 5   Years of Credit History       7500 non-null   float64\n",
      " 6   Maximum Open Credit           7500 non-null   float64\n",
      " 7   Number of Credit Problems     7500 non-null   float64\n",
      " 8   Months since last delinquent  3419 non-null   float64\n",
      " 9   Bankruptcies                  7486 non-null   float64\n",
      " 10  Purpose                       7500 non-null   object \n",
      " 11  Term                          7500 non-null   object \n",
      " 12  Current Loan Amount           7500 non-null   float64\n",
      " 13  Current Credit Balance        7500 non-null   float64\n",
      " 14  Monthly Debt                  7500 non-null   float64\n",
      " 15  Credit Score                  5943 non-null   float64\n",
      " 16  Credit Default                7500 non-null   int64  \n",
      "dtypes: float64(12), int64(1), object(4)\n",
      "memory usage: 996.2+ KB\n"
     ]
    }
   ],
   "source": [
    "df_train.info()"
   ]
  },
  {
   "cell_type": "code",
   "execution_count": 30,
   "id": "d4cffb2e",
   "metadata": {},
   "outputs": [
    {
     "data": {
      "text/html": [
       "<div>\n",
       "<style scoped>\n",
       "    .dataframe tbody tr th:only-of-type {\n",
       "        vertical-align: middle;\n",
       "    }\n",
       "\n",
       "    .dataframe tbody tr th {\n",
       "        vertical-align: top;\n",
       "    }\n",
       "\n",
       "    .dataframe thead th {\n",
       "        text-align: right;\n",
       "    }\n",
       "</style>\n",
       "<table border=\"1\" class=\"dataframe\">\n",
       "  <thead>\n",
       "    <tr style=\"text-align: right;\">\n",
       "      <th></th>\n",
       "      <th>Annual Income</th>\n",
       "      <th>Tax Liens</th>\n",
       "      <th>Number of Open Accounts</th>\n",
       "      <th>Years of Credit History</th>\n",
       "      <th>Maximum Open Credit</th>\n",
       "      <th>Number of Credit Problems</th>\n",
       "      <th>Months since last delinquent</th>\n",
       "      <th>Bankruptcies</th>\n",
       "      <th>Current Loan Amount</th>\n",
       "      <th>Current Credit Balance</th>\n",
       "      <th>Monthly Debt</th>\n",
       "      <th>Credit Score</th>\n",
       "      <th>Credit Default</th>\n",
       "    </tr>\n",
       "  </thead>\n",
       "  <tbody>\n",
       "    <tr>\n",
       "      <th>count</th>\n",
       "      <td>5.943000e+03</td>\n",
       "      <td>7500.000000</td>\n",
       "      <td>7500.000000</td>\n",
       "      <td>7500.000000</td>\n",
       "      <td>7.500000e+03</td>\n",
       "      <td>7500.000000</td>\n",
       "      <td>3419.000000</td>\n",
       "      <td>7486.000000</td>\n",
       "      <td>7.500000e+03</td>\n",
       "      <td>7.500000e+03</td>\n",
       "      <td>7500.000000</td>\n",
       "      <td>5943.000000</td>\n",
       "      <td>7500.000000</td>\n",
       "    </tr>\n",
       "    <tr>\n",
       "      <th>mean</th>\n",
       "      <td>1.366392e+06</td>\n",
       "      <td>0.030133</td>\n",
       "      <td>11.130933</td>\n",
       "      <td>18.317467</td>\n",
       "      <td>9.451537e+05</td>\n",
       "      <td>0.170000</td>\n",
       "      <td>34.692600</td>\n",
       "      <td>0.117152</td>\n",
       "      <td>1.187318e+07</td>\n",
       "      <td>2.898332e+05</td>\n",
       "      <td>18314.454133</td>\n",
       "      <td>1151.087498</td>\n",
       "      <td>0.281733</td>\n",
       "    </tr>\n",
       "    <tr>\n",
       "      <th>std</th>\n",
       "      <td>8.453392e+05</td>\n",
       "      <td>0.271604</td>\n",
       "      <td>4.908924</td>\n",
       "      <td>7.041946</td>\n",
       "      <td>1.602622e+07</td>\n",
       "      <td>0.498598</td>\n",
       "      <td>21.688806</td>\n",
       "      <td>0.347192</td>\n",
       "      <td>3.192612e+07</td>\n",
       "      <td>3.178714e+05</td>\n",
       "      <td>11926.764673</td>\n",
       "      <td>1604.451418</td>\n",
       "      <td>0.449874</td>\n",
       "    </tr>\n",
       "    <tr>\n",
       "      <th>min</th>\n",
       "      <td>1.645970e+05</td>\n",
       "      <td>0.000000</td>\n",
       "      <td>2.000000</td>\n",
       "      <td>4.000000</td>\n",
       "      <td>0.000000e+00</td>\n",
       "      <td>0.000000</td>\n",
       "      <td>0.000000</td>\n",
       "      <td>0.000000</td>\n",
       "      <td>1.124200e+04</td>\n",
       "      <td>0.000000e+00</td>\n",
       "      <td>0.000000</td>\n",
       "      <td>585.000000</td>\n",
       "      <td>0.000000</td>\n",
       "    </tr>\n",
       "    <tr>\n",
       "      <th>25%</th>\n",
       "      <td>8.443410e+05</td>\n",
       "      <td>0.000000</td>\n",
       "      <td>8.000000</td>\n",
       "      <td>13.500000</td>\n",
       "      <td>2.792295e+05</td>\n",
       "      <td>0.000000</td>\n",
       "      <td>16.000000</td>\n",
       "      <td>0.000000</td>\n",
       "      <td>1.801690e+05</td>\n",
       "      <td>1.142565e+05</td>\n",
       "      <td>10067.500000</td>\n",
       "      <td>711.000000</td>\n",
       "      <td>0.000000</td>\n",
       "    </tr>\n",
       "    <tr>\n",
       "      <th>50%</th>\n",
       "      <td>1.168386e+06</td>\n",
       "      <td>0.000000</td>\n",
       "      <td>10.000000</td>\n",
       "      <td>17.000000</td>\n",
       "      <td>4.781590e+05</td>\n",
       "      <td>0.000000</td>\n",
       "      <td>32.000000</td>\n",
       "      <td>0.000000</td>\n",
       "      <td>3.095730e+05</td>\n",
       "      <td>2.093230e+05</td>\n",
       "      <td>16076.500000</td>\n",
       "      <td>731.000000</td>\n",
       "      <td>0.000000</td>\n",
       "    </tr>\n",
       "    <tr>\n",
       "      <th>75%</th>\n",
       "      <td>1.640137e+06</td>\n",
       "      <td>0.000000</td>\n",
       "      <td>14.000000</td>\n",
       "      <td>21.800000</td>\n",
       "      <td>7.935015e+05</td>\n",
       "      <td>0.000000</td>\n",
       "      <td>50.000000</td>\n",
       "      <td>0.000000</td>\n",
       "      <td>5.198820e+05</td>\n",
       "      <td>3.604062e+05</td>\n",
       "      <td>23818.000000</td>\n",
       "      <td>743.000000</td>\n",
       "      <td>1.000000</td>\n",
       "    </tr>\n",
       "    <tr>\n",
       "      <th>max</th>\n",
       "      <td>1.014934e+07</td>\n",
       "      <td>7.000000</td>\n",
       "      <td>43.000000</td>\n",
       "      <td>57.700000</td>\n",
       "      <td>1.304726e+09</td>\n",
       "      <td>7.000000</td>\n",
       "      <td>118.000000</td>\n",
       "      <td>4.000000</td>\n",
       "      <td>1.000000e+08</td>\n",
       "      <td>6.506797e+06</td>\n",
       "      <td>136679.000000</td>\n",
       "      <td>7510.000000</td>\n",
       "      <td>1.000000</td>\n",
       "    </tr>\n",
       "  </tbody>\n",
       "</table>\n",
       "</div>"
      ],
      "text/plain": [
       "       Annual Income    Tax Liens  Number of Open Accounts  \\\n",
       "count   5.943000e+03  7500.000000              7500.000000   \n",
       "mean    1.366392e+06     0.030133                11.130933   \n",
       "std     8.453392e+05     0.271604                 4.908924   \n",
       "min     1.645970e+05     0.000000                 2.000000   \n",
       "25%     8.443410e+05     0.000000                 8.000000   \n",
       "50%     1.168386e+06     0.000000                10.000000   \n",
       "75%     1.640137e+06     0.000000                14.000000   \n",
       "max     1.014934e+07     7.000000                43.000000   \n",
       "\n",
       "       Years of Credit History  Maximum Open Credit  \\\n",
       "count              7500.000000         7.500000e+03   \n",
       "mean                 18.317467         9.451537e+05   \n",
       "std                   7.041946         1.602622e+07   \n",
       "min                   4.000000         0.000000e+00   \n",
       "25%                  13.500000         2.792295e+05   \n",
       "50%                  17.000000         4.781590e+05   \n",
       "75%                  21.800000         7.935015e+05   \n",
       "max                  57.700000         1.304726e+09   \n",
       "\n",
       "       Number of Credit Problems  Months since last delinquent  Bankruptcies  \\\n",
       "count                7500.000000                   3419.000000   7486.000000   \n",
       "mean                    0.170000                     34.692600      0.117152   \n",
       "std                     0.498598                     21.688806      0.347192   \n",
       "min                     0.000000                      0.000000      0.000000   \n",
       "25%                     0.000000                     16.000000      0.000000   \n",
       "50%                     0.000000                     32.000000      0.000000   \n",
       "75%                     0.000000                     50.000000      0.000000   \n",
       "max                     7.000000                    118.000000      4.000000   \n",
       "\n",
       "       Current Loan Amount  Current Credit Balance   Monthly Debt  \\\n",
       "count         7.500000e+03            7.500000e+03    7500.000000   \n",
       "mean          1.187318e+07            2.898332e+05   18314.454133   \n",
       "std           3.192612e+07            3.178714e+05   11926.764673   \n",
       "min           1.124200e+04            0.000000e+00       0.000000   \n",
       "25%           1.801690e+05            1.142565e+05   10067.500000   \n",
       "50%           3.095730e+05            2.093230e+05   16076.500000   \n",
       "75%           5.198820e+05            3.604062e+05   23818.000000   \n",
       "max           1.000000e+08            6.506797e+06  136679.000000   \n",
       "\n",
       "       Credit Score  Credit Default  \n",
       "count   5943.000000     7500.000000  \n",
       "mean    1151.087498        0.281733  \n",
       "std     1604.451418        0.449874  \n",
       "min      585.000000        0.000000  \n",
       "25%      711.000000        0.000000  \n",
       "50%      731.000000        0.000000  \n",
       "75%      743.000000        1.000000  \n",
       "max     7510.000000        1.000000  "
      ]
     },
     "execution_count": 30,
     "metadata": {},
     "output_type": "execute_result"
    }
   ],
   "source": [
    "df_train.describe()"
   ]
  },
  {
   "cell_type": "markdown",
   "id": "b2ea843e",
   "metadata": {},
   "source": [
    "### Обзор данных"
   ]
  },
  {
   "cell_type": "code",
   "execution_count": 31,
   "id": "7c3ea8d2",
   "metadata": {},
   "outputs": [],
   "source": [
    "TARGET_NAME = 'Credit Default'\n",
    "BASE_FEATURE_NAMES = df_train.columns.drop(TARGET_NAME).tolist()\n",
    "CAT_FEATURE_NAMES = df_train.select_dtypes(include = 'object').columns.tolist()\n",
    "NUM_FEATURE_NAMES = list(set(BASE_FEATURE_NAMES) - set(CAT_FEATURE_NAMES))\n",
    "NUM_FEATURE = df_train[BASE_FEATURE_NAMES].select_dtypes(include = ['float64', 'int64'])"
   ]
  },
  {
   "cell_type": "code",
   "execution_count": 32,
   "id": "1cea4bb4",
   "metadata": {},
   "outputs": [
    {
     "name": "stdout",
     "output_type": "stream",
     "text": [
      "Home Ownership\n",
      "\n",
      "Home Mortgage    3637\n",
      "Rent             3204\n",
      "Own Home          647\n",
      "Have Mortgage      12\n",
      "Name: Home Ownership, dtype: int64\n",
      "****************************************************************************************************\n",
      "\n",
      "Years in current job\n",
      "\n",
      "10+ years    2332\n",
      "2 years       705\n",
      "3 years       620\n",
      "< 1 year      563\n",
      "5 years       516\n",
      "1 year        504\n",
      "4 years       469\n",
      "6 years       426\n",
      "7 years       396\n",
      "8 years       339\n",
      "9 years       259\n",
      "Name: Years in current job, dtype: int64\n",
      "****************************************************************************************************\n",
      "\n",
      "Purpose\n",
      "\n",
      "debt consolidation      5944\n",
      "other                    665\n",
      "home improvements        412\n",
      "business loan            129\n",
      "buy a car                 96\n",
      "medical bills             71\n",
      "major purchase            40\n",
      "take a trip               37\n",
      "buy house                 34\n",
      "small business            26\n",
      "wedding                   15\n",
      "moving                    11\n",
      "educational expenses      10\n",
      "vacation                   8\n",
      "renewable energy           2\n",
      "Name: Purpose, dtype: int64\n",
      "****************************************************************************************************\n",
      "\n",
      "Term\n",
      "\n",
      "Short Term    5556\n",
      "Long Term     1944\n",
      "Name: Term, dtype: int64\n",
      "****************************************************************************************************\n",
      "\n"
     ]
    }
   ],
   "source": [
    "# Обзор категориальных признаков\n",
    "for cat_colname in CAT_FEATURE_NAMES:\n",
    "    print(str(cat_colname) + '\\n\\n' + str(df_train[cat_colname].value_counts()) + '\\n' + '*' * 100 + '\\n')"
   ]
  },
  {
   "cell_type": "code",
   "execution_count": 33,
   "id": "82be6bcc",
   "metadata": {},
   "outputs": [
    {
     "data": {
      "text/html": [
       "<div>\n",
       "<style scoped>\n",
       "    .dataframe tbody tr th:only-of-type {\n",
       "        vertical-align: middle;\n",
       "    }\n",
       "\n",
       "    .dataframe tbody tr th {\n",
       "        vertical-align: top;\n",
       "    }\n",
       "\n",
       "    .dataframe thead th {\n",
       "        text-align: right;\n",
       "    }\n",
       "</style>\n",
       "<table border=\"1\" class=\"dataframe\">\n",
       "  <thead>\n",
       "    <tr style=\"text-align: right;\">\n",
       "      <th></th>\n",
       "      <th>Количество пропущенных</th>\n",
       "      <th>%</th>\n",
       "    </tr>\n",
       "  </thead>\n",
       "  <tbody>\n",
       "    <tr>\n",
       "      <th>Months since last delinquent</th>\n",
       "      <td>4081</td>\n",
       "      <td>54.4</td>\n",
       "    </tr>\n",
       "    <tr>\n",
       "      <th>Annual Income</th>\n",
       "      <td>1557</td>\n",
       "      <td>20.8</td>\n",
       "    </tr>\n",
       "    <tr>\n",
       "      <th>Credit Score</th>\n",
       "      <td>1557</td>\n",
       "      <td>20.8</td>\n",
       "    </tr>\n",
       "    <tr>\n",
       "      <th>Years in current job</th>\n",
       "      <td>371</td>\n",
       "      <td>4.9</td>\n",
       "    </tr>\n",
       "    <tr>\n",
       "      <th>Bankruptcies</th>\n",
       "      <td>14</td>\n",
       "      <td>0.2</td>\n",
       "    </tr>\n",
       "  </tbody>\n",
       "</table>\n",
       "</div>"
      ],
      "text/plain": [
       "                              Количество пропущенных     %\n",
       "Months since last delinquent                    4081  54.4\n",
       "Annual Income                                   1557  20.8\n",
       "Credit Score                                    1557  20.8\n",
       "Years in current job                             371   4.9\n",
       "Bankruptcies                                      14   0.2"
      ]
     },
     "execution_count": 33,
     "metadata": {},
     "output_type": "execute_result"
    }
   ],
   "source": [
    "# Обзор пропусков\n",
    "isna_values(df_train)"
   ]
  },
  {
   "cell_type": "markdown",
   "id": "f522614a",
   "metadata": {},
   "source": [
    "- В признаке Home Ownership видим, что для 12 наблюдений (0,16%) допущена ошибка (Have Mortgage можно заменить на Home Mortgage) и количество групп можно уменьшить до 3х, после чего привести данный признак в численный.\n",
    "- Признак Years in current job приведем из категориального в численных, при этом значения <1 приравняем 0, а значения 10+ = 10. А также заполним пропуски (< 5%) медианой.\n",
    "- Признак Term приведем к бинарным значениям."
   ]
  },
  {
   "cell_type": "code",
   "execution_count": 34,
   "id": "bf38ba2d",
   "metadata": {},
   "outputs": [
    {
     "data": {
      "image/png": "[encoded data removed]",
      "text/plain": [
       "<Figure size 1152x1152 with 12 Axes>"
      ]
     },
     "metadata": {
      "needs_background": "light"
     },
     "output_type": "display_data"
    }
   ],
   "source": [
    "NUM_FEATURE.hist(figsize=(16,16), bins=20, grid=False);"
   ]
  },
  {
   "cell_type": "markdown",
   "id": "fbdf5d93",
   "metadata": {},
   "source": [
    "### Корреляция признаков"
   ]
  },
  {
   "cell_type": "code",
   "execution_count": 37,
   "id": "1cba62ca",
   "metadata": {},
   "outputs": [
    {
     "data": {
      "image/png": "[encoded data removed]",
      "text/plain": [
       "<Figure size 720x720 with 2 Axes>"
      ]
     },
     "metadata": {
      "needs_background": "light"
     },
     "output_type": "display_data"
    }
   ],
   "source": [
    "correlation = pd.DataFrame(NUM_FEATURE).corr()\n",
    "plt.figure(figsize = (10, 10))\n",
    "mask = np.zeros_like(correlation, dtype = np.bool)\n",
    "mask[np.triu_indices_from(mask)] = True\n",
    "sns.heatmap(correlation, mask = mask, annot = True, linewidths = .5, annot_kws = {\"size\":8}, cmap='GnBu')\n",
    "plt.show()"
   ]
  },
  {
   "cell_type": "code",
   "execution_count": 38,
   "id": "d081ebef",
   "metadata": {},
   "outputs": [
    {
     "data": {
      "image/png": "[encoded data removed]",
      "text/plain": [
       "<Figure size 432x288 with 1 Axes>"
      ]
     },
     "metadata": {
      "needs_background": "light"
     },
     "output_type": "display_data"
    }
   ],
   "source": [
    "# Корелляция с целевой переменной\n",
    "\n",
    "correlation_with_target = df_train.corr().iloc[:-1, -1].sort_values(ascending = False)\n",
    "sns.barplot(x = correlation_with_target.values, y = correlation_with_target.index)\n",
    "\n",
    "plt.title('Корелляция с целевой переменной')\n",
    "plt.show()"
   ]
  },
  {
   "cell_type": "markdown",
   "id": "0f07738b",
   "metadata": {},
   "source": [
    "### Обработка выбросов и пропусков"
   ]
  },
  {
   "cell_type": "markdown",
   "id": "8f29a8b0",
   "metadata": {},
   "source": [
    "- Признаки Annual Income, Months since last delinquent, Bankruptcies, Credit Score имеют пропуски. \n",
    "- Признаки Maximum Open Credit, Current Loan Amount, Credit Score обладают выбросами, поскольку медиана и среднее сильно отличаются."
   ]
  },
  {
   "cell_type": "code",
   "execution_count": 39,
   "id": "debacd80",
   "metadata": {},
   "outputs": [
    {
     "data": {
      "text/plain": [
       "99999999.0    870\n",
       "218064.0        6\n",
       "89298.0         6\n",
       "222926.0        5\n",
       "265826.0        5\n",
       "Name: Current Loan Amount, dtype: int64"
      ]
     },
     "execution_count": 39,
     "metadata": {},
     "output_type": "execute_result"
    }
   ],
   "source": [
    "# Current Loan Amount\n",
    "df_train['Current Loan Amount'].value_counts().head()"
   ]
  },
  {
   "cell_type": "code",
   "execution_count": 41,
   "id": "462bc754",
   "metadata": {},
   "outputs": [
    {
     "data": {
      "text/plain": [
       "11242.0"
      ]
     },
     "execution_count": 41,
     "metadata": {},
     "output_type": "execute_result"
    }
   ],
   "source": [
    "df_train['Current Loan Amount'].min()"
   ]
  },
  {
   "cell_type": "markdown",
   "id": "0dfb58e4",
   "metadata": {},
   "source": [
    "- Имеется большое количество значений, вероятно, выставленных по умолчанию. Заменим их медианой значений, группируя по цели кредита и его сроку."
   ]
  },
  {
   "cell_type": "code",
   "execution_count": 42,
   "id": "495fc110",
   "metadata": {},
   "outputs": [
    {
     "data": {
      "text/plain": [
       "65"
      ]
     },
     "execution_count": 42,
     "metadata": {},
     "output_type": "execute_result"
    }
   ],
   "source": [
    "# Maximum Open Credit\n",
    "df_train.loc[df_train['Maximum Open Credit'] == 0, 'Maximum Open Credit'].count()"
   ]
  },
  {
   "cell_type": "code",
   "execution_count": 43,
   "id": "0a739c76",
   "metadata": {},
   "outputs": [
    {
     "data": {
      "text/plain": [
       "617     1.304726e+09\n",
       "44      3.800523e+08\n",
       "2617    2.655129e+08\n",
       "2023    5.756256e+07\n",
       "2763    4.092389e+07\n",
       "7026    2.640700e+07\n",
       "4769    2.634333e+07\n",
       "5523    2.137243e+07\n",
       "5731    1.928043e+07\n",
       "3170    1.868381e+07\n",
       "Name: Maximum Open Credit, dtype: float64"
      ]
     },
     "execution_count": 43,
     "metadata": {},
     "output_type": "execute_result"
    }
   ],
   "source": [
    "df_train['Maximum Open Credit'].nlargest(10)"
   ]
  },
  {
   "cell_type": "code",
   "execution_count": 44,
   "id": "bd090925",
   "metadata": {},
   "outputs": [
    {
     "data": {
      "text/plain": [
       "2236204.2999999984"
      ]
     },
     "execution_count": 44,
     "metadata": {},
     "output_type": "execute_result"
    }
   ],
   "source": [
    "df_train['Maximum Open Credit'].quantile(.975)"
   ]
  },
  {
   "cell_type": "markdown",
   "id": "95259aeb",
   "metadata": {},
   "source": [
    "- Имеются 65 нулевых значений и самые большие значения после 97.5 квантиля, которые на несколько порядков выше значения квантиля. Нулевые значения заменим на текущую сумму кредита, а максимальные 5 значений на 97.5 квантиль."
   ]
  },
  {
   "cell_type": "code",
   "execution_count": 45,
   "id": "928970b4",
   "metadata": {},
   "outputs": [
    {
     "data": {
      "text/plain": [
       "400"
      ]
     },
     "execution_count": 45,
     "metadata": {},
     "output_type": "execute_result"
    }
   ],
   "source": [
    "# Credit Score\n",
    "df_train.loc[df_train['Credit Score'] > 850, 'Credit Score'].count()"
   ]
  },
  {
   "cell_type": "code",
   "execution_count": 46,
   "id": "edf92437",
   "metadata": {},
   "outputs": [
    {
     "data": {
      "text/plain": [
       "6060.0"
      ]
     },
     "execution_count": 46,
     "metadata": {},
     "output_type": "execute_result"
    }
   ],
   "source": [
    "df_train.loc[df_train['Credit Score'] > 850, 'Credit Score'].min()"
   ]
  },
  {
   "cell_type": "code",
   "execution_count": 47,
   "id": "4297d69f",
   "metadata": {},
   "outputs": [
    {
     "data": {
      "text/plain": [
       "7510.0"
      ]
     },
     "execution_count": 47,
     "metadata": {},
     "output_type": "execute_result"
    }
   ],
   "source": [
    "df_train.loc[df_train['Credit Score'] > 850, 'Credit Score'].max()"
   ]
  },
  {
   "cell_type": "markdown",
   "id": "cebd77b3",
   "metadata": {},
   "source": [
    "- Согласно википедии FICO credit score не может быть больше 850. 400 Наюл.дений находятся выше этого значения в диапазоне 6060 - 7510. Скорее всего был указан неверный порядок. Уменьшим порядок данных выбросов. Пропущенные значения заполним медианой, а также создадим новые признаки с бинарным разделением: 0 - значения были пропущены, 1 - значения были известны."
   ]
  },
  {
   "cell_type": "code",
   "execution_count": 48,
   "id": "05657590",
   "metadata": {},
   "outputs": [
    {
     "data": {
      "text/plain": [
       "6"
      ]
     },
     "execution_count": 48,
     "metadata": {},
     "output_type": "execute_result"
    }
   ],
   "source": [
    "df_train.loc[(df_train['Monthly Debt'] == 0), 'Monthly Debt'].count()"
   ]
  },
  {
   "cell_type": "markdown",
   "id": "d6a62799",
   "metadata": {},
   "source": [
    "- В признаке Monthly Debt имеются нулевые значения, хотя Current Loan Amount существует. Поэтому заменим данные значения на медиану."
   ]
  },
  {
   "cell_type": "code",
   "execution_count": 49,
   "id": "6f65460a",
   "metadata": {},
   "outputs": [
    {
     "data": {
      "text/plain": [
       "0.0    6660\n",
       "1.0     786\n",
       "2.0      31\n",
       "3.0       7\n",
       "4.0       2\n",
       "Name: Bankruptcies, dtype: int64"
      ]
     },
     "execution_count": 49,
     "metadata": {},
     "output_type": "execute_result"
    }
   ],
   "source": [
    "df_train['Bankruptcies'].value_counts()"
   ]
  },
  {
   "cell_type": "markdown",
   "id": "1463815f",
   "metadata": {},
   "source": [
    "- По признаку Bankruptcies имеется 14 пропущенных значений. Поскольку данный признак сильно коррелирует с признаком Number of Credit Problems, то заменим в данных наблюдениях пропуски на медиану по Number of Credit Problems."
   ]
  },
  {
   "cell_type": "code",
   "execution_count": 50,
   "id": "b99c6123",
   "metadata": {},
   "outputs": [
    {
     "data": {
      "text/plain": [
       "count    5.943000e+03\n",
       "mean     1.366392e+06\n",
       "std      8.453392e+05\n",
       "min      1.645970e+05\n",
       "25%      8.443410e+05\n",
       "50%      1.168386e+06\n",
       "75%      1.640137e+06\n",
       "max      1.014934e+07\n",
       "Name: Annual Income, dtype: float64"
      ]
     },
     "execution_count": 50,
     "metadata": {},
     "output_type": "execute_result"
    }
   ],
   "source": [
    "df_train['Annual Income'].describe()"
   ]
  },
  {
   "cell_type": "markdown",
   "id": "20bf3767",
   "metadata": {},
   "source": [
    "- По признаку Annual Income имеется больщая крреляция с признаком Monthly Debt, пропущенные значения заполним медианой по Monthly Debt, а также создадим новые признаки с бинарным разделением: 0 - значения были пропущены, 1 - значения были известны."
   ]
  },
  {
   "cell_type": "code",
   "execution_count": 51,
   "id": "68c8acff",
   "metadata": {},
   "outputs": [
    {
     "data": {
      "text/plain": [
       "18"
      ]
     },
     "execution_count": 51,
     "metadata": {},
     "output_type": "execute_result"
    }
   ],
   "source": [
    "df_train.loc[(df_train['Months since last delinquent'] == 0), 'Months since last delinquent'].count()"
   ]
  },
  {
   "cell_type": "markdown",
   "id": "35851f0d",
   "metadata": {},
   "source": [
    "- По признаку Months since last delinquent имеется больщое количество пропусков, вероятно, пропущенные значения означают отсутствие просрочки, поэтому заменим пропуски 0, а также создадим новые признаки с бинарным разделением: 0 - значения были пропущены, 1 - значения были известны."
   ]
  },
  {
   "cell_type": "markdown",
   "id": "001d68e0",
   "metadata": {},
   "source": [
    "### Подготовка данных"
   ]
  },
  {
   "cell_type": "code",
   "execution_count": 656,
   "id": "f8adea51",
   "metadata": {},
   "outputs": [],
   "source": [
    "# input\n",
    "TRAIN_DATASET_PATH = './course_project_train.csv'\n",
    "TEST_DATASET_PATH = './course_project_test.csv'\n",
    "\n",
    "df_train = pd.read_csv(TRAIN_DATASET_PATH)\n",
    "df_test = pd.read_csv(TEST_DATASET_PATH)"
   ]
  },
  {
   "cell_type": "code",
   "execution_count": 657,
   "id": "c9537420",
   "metadata": {},
   "outputs": [],
   "source": [
    "df_train = Preprocessing(df_train)\n",
    "df_test = Preprocessing(df_test)"
   ]
  },
  {
   "cell_type": "markdown",
   "id": "7240c651",
   "metadata": {},
   "source": [
    "### Отбор признаков"
   ]
  },
  {
   "cell_type": "code",
   "execution_count": 658,
   "id": "3197820f",
   "metadata": {},
   "outputs": [
    {
     "name": "stdout",
     "output_type": "stream",
     "text": [
      "TARGET_NAME\n",
      "\n",
      "\n",
      "Credit Default\n",
      "****************************************************************************************************\n",
      "\n",
      "BASE_FEATURE_NAMES\n",
      "16\n",
      "\n",
      "['Home Ownership', 'Annual Income', 'Years in current job', 'Tax Liens', 'Number of Open Accounts', 'Years of Credit History', 'Maximum Open Credit', 'Number of Credit Problems', 'Months since last delinquent', 'Bankruptcies', 'Purpose', 'Term', 'Current Loan Amount', 'Current Credit Balance', 'Monthly Debt', 'Credit Score']\n",
      "****************************************************************************************************\n",
      "\n",
      "NEW_FEATURE_NAMES\n",
      "23\n",
      "\n",
      "['Home Mortgage', 'Own Home', 'Rent', 'business loan', 'buy a car', 'buy house', 'debt consolidation', 'educational expenses', 'home improvements', 'major purchase', 'medical bills', 'moving', 'other', 'small business', 'take a trip', 'vacation', 'wedding', 'Long Term', 'Short Term', 'Current_Loan_Amount_Med', 'Credit_Score_exist', 'Annual_Income_exist', 'Months_since_last_delinquent_exist']\n",
      "****************************************************************************************************\n",
      "\n",
      "CAT_FEATURE_NAMES\n",
      "3\n",
      "\n",
      "['Home Ownership', 'Purpose', 'Term']\n",
      "****************************************************************************************************\n",
      "\n",
      "NUM_FEATURE_NAMES\n",
      "36\n",
      "\n",
      "['Annual Income', 'Years in current job', 'Tax Liens', 'Number of Open Accounts', 'Years of Credit History', 'Maximum Open Credit', 'Number of Credit Problems', 'Months since last delinquent', 'Bankruptcies', 'Current Loan Amount', 'Current Credit Balance', 'Monthly Debt', 'Credit Score', 'Home Mortgage', 'Own Home', 'Rent', 'business loan', 'buy a car', 'buy house', 'debt consolidation', 'educational expenses', 'home improvements', 'major purchase', 'medical bills', 'moving', 'other', 'small business', 'take a trip', 'vacation', 'wedding', 'Long Term', 'Short Term', 'Current_Loan_Amount_Med', 'Credit_Score_exist', 'Annual_Income_exist', 'Months_since_last_delinquent_exist']\n",
      "****************************************************************************************************\n",
      "\n"
     ]
    }
   ],
   "source": [
    "TARGET_NAME = 'Credit Default'\n",
    "BASE_FEATURE_NAMES = df_train.loc[:, 'Home Ownership':'Credit Score'].columns.tolist()\n",
    "NEW_FEATURE_NAMES = df_train.columns.drop([TARGET_NAME] + BASE_FEATURE_NAMES).tolist()\n",
    "CAT_FEATURE_NAMES = df_train.select_dtypes(include = 'category').columns.tolist()\n",
    "NUM_FEATURE_NAMES = df_train.select_dtypes(include = ['int32', 'float64']).columns.drop(TARGET_NAME).tolist()\n",
    "\n",
    "feature_split(df_train)"
   ]
  },
  {
   "cell_type": "markdown",
   "id": "a68942a2",
   "metadata": {},
   "source": [
    "### Нормализация данных и балансировка целевой переменной"
   ]
  },
  {
   "cell_type": "markdown",
   "id": "b11a0e60",
   "metadata": {},
   "source": [
    "- Нормализация данных не дала прироста в метрике. Для Балансировки целевой переменной будем использовать параметр auto_class_weights = 'Balanced' в настройках CatBoost."
   ]
  },
  {
   "cell_type": "markdown",
   "id": "9339dc1f",
   "metadata": {},
   "source": [
    "### Разбиение на train и valid"
   ]
  },
  {
   "cell_type": "code",
   "execution_count": 659,
   "id": "64922173",
   "metadata": {},
   "outputs": [
    {
     "name": "stdout",
     "output_type": "stream",
     "text": [
      "Размер X_train: (5250, 39)\n",
      "Размер X_valid: (2250, 39)\n",
      "Размер X_test: (2500, 39)\n"
     ]
    }
   ],
   "source": [
    "X = df_train.drop(columns = TARGET_NAME)\n",
    "y = df_train[TARGET_NAME]\n",
    "\n",
    "X_train, X_valid, y_train, y_valid = train_test_split(X, y, test_size=0.3, shuffle=True, random_state=21)\n",
    "print(f'Размер X_train: {X_train.shape}')\n",
    "print(f'Размер X_valid: {X_valid.shape}')\n",
    "print(f'Размер X_test: {df_test.shape}')"
   ]
  },
  {
   "cell_type": "markdown",
   "id": "848742dc",
   "metadata": {},
   "source": [
    "### Построение модели"
   ]
  },
  {
   "cell_type": "markdown",
   "id": "e6f896a8",
   "metadata": {},
   "source": [
    "#### CatBoost"
   ]
  },
  {
   "cell_type": "code",
   "execution_count": 660,
   "id": "8f0973e9",
   "metadata": {},
   "outputs": [
    {
     "name": "stdout",
     "output_type": "stream",
     "text": [
      "TRAIN\n",
      "\n",
      "              precision    recall  f1-score   support\n",
      "\n",
      "           0       0.95      0.79      0.86      3771\n",
      "           1       0.62      0.89      0.73      1479\n",
      "\n",
      "    accuracy                           0.82      5250\n",
      "   macro avg       0.78      0.84      0.80      5250\n",
      "weighted avg       0.86      0.82      0.82      5250\n",
      "\n",
      "TEST\n",
      "\n",
      "              precision    recall  f1-score   support\n",
      "\n",
      "           0       0.82      0.67      0.74      1616\n",
      "           1       0.42      0.61      0.50       634\n",
      "\n",
      "    accuracy                           0.65      2250\n",
      "   macro avg       0.62      0.64      0.62      2250\n",
      "weighted avg       0.70      0.65      0.67      2250\n",
      "\n",
      "CONFUSION MATRIX\n",
      "\n",
      "col_0              0    1\n",
      "Credit Default           \n",
      "0               1082  534\n",
      "1                245  389\n"
     ]
    }
   ],
   "source": [
    "model_catb = catb.CatBoostClassifier(silent=True, random_state=21, auto_class_weights = 'Balanced')\n",
    "\n",
    "model_catb.fit(X_train, y_train, CAT_FEATURE_NAMES)\n",
    "\n",
    "y_train_pred = model_catb.predict(X_train)\n",
    "y_valid_pred = model_catb.predict(X_valid)\n",
    "\n",
    "get_classification_report(y_train, y_train_pred, y_valid, y_valid_pred)"
   ]
  },
  {
   "cell_type": "markdown",
   "id": "4f9bfc88",
   "metadata": {},
   "source": [
    "### Выбор лучшей модели и подбор гиперпараметров"
   ]
  },
  {
   "cell_type": "code",
   "execution_count": 699,
   "id": "b5b056c2",
   "metadata": {},
   "outputs": [],
   "source": [
    "model_catb = catb.CatBoostClassifier({\n",
    "    'eval_metric': 'F1',\n",
    "    'auto_class_weights' : 'Balanced',\n",
    "    'silent': True,\n",
    "    'random_state' : 21,\n",
    "})\n",
    "\n",
    "params = {\n",
    "    'depth': [3, 5, 7, 9],\n",
    "    'learning_rate': [0.03, 0.1, 0.3],\n",
    "    'iterations': [50, 100, 200, 500, 700, 1000, 1200, 1500],\n",
    "    'l2_leaf_reg': [2, 2.5, 3, 3.5, 4],\n",
    "    'bagging_temperature': [1, 1.5, 2]\n",
    "}\n",
    "\n",
    "cv = KFold(n_splits = 3, random_state = 21, shuffle = True)"
   ]
  },
  {
   "cell_type": "code",
   "execution_count": 662,
   "id": "01019a61",
   "metadata": {},
   "outputs": [
    {
     "name": "stdout",
     "output_type": "stream",
     "text": [
      "0:\tlearn: 0.6785078\ttotal: 20ms\tremaining: 3.99s\n",
      "1:\tlearn: 0.6703783\ttotal: 32.3ms\tremaining: 3.2s\n",
      "2:\tlearn: 0.6605599\ttotal: 46.5ms\tremaining: 3.05s\n",
      "3:\tlearn: 0.6497686\ttotal: 85.7ms\tremaining: 4.2s\n",
      "4:\tlearn: 0.6395142\ttotal: 136ms\tremaining: 5.29s\n",
      "5:\tlearn: 0.6324382\ttotal: 160ms\tremaining: 5.18s\n",
      "6:\tlearn: 0.6278498\ttotal: 181ms\tremaining: 4.99s\n",
      "7:\tlearn: 0.6207026\ttotal: 223ms\tremaining: 5.35s\n",
      "8:\tlearn: 0.6150443\ttotal: 273ms\tremaining: 5.79s\n",
      "9:\tlearn: 0.6102022\ttotal: 321ms\tremaining: 6.09s\n",
      "10:\tlearn: 0.6040425\ttotal: 363ms\tremaining: 6.24s\n",
      "11:\tlearn: 0.6002640\ttotal: 411ms\tremaining: 6.44s\n",
      "12:\tlearn: 0.5952486\ttotal: 463ms\tremaining: 6.66s\n",
      "13:\tlearn: 0.5923609\ttotal: 480ms\tremaining: 6.37s\n",
      "14:\tlearn: 0.5875591\ttotal: 521ms\tremaining: 6.43s\n",
      "15:\tlearn: 0.5849391\ttotal: 551ms\tremaining: 6.33s\n",
      "16:\tlearn: 0.5825689\ttotal: 566ms\tremaining: 6.1s\n",
      "17:\tlearn: 0.5770927\ttotal: 606ms\tremaining: 6.13s\n",
      "18:\tlearn: 0.5732796\ttotal: 648ms\tremaining: 6.17s\n",
      "19:\tlearn: 0.5701680\ttotal: 696ms\tremaining: 6.26s\n",
      "20:\tlearn: 0.5679782\ttotal: 727ms\tremaining: 6.2s\n",
      "21:\tlearn: 0.5647023\ttotal: 771ms\tremaining: 6.24s\n",
      "22:\tlearn: 0.5622131\ttotal: 818ms\tremaining: 6.3s\n",
      "23:\tlearn: 0.5611245\ttotal: 824ms\tremaining: 6.04s\n",
      "24:\tlearn: 0.5597536\ttotal: 840ms\tremaining: 5.88s\n",
      "25:\tlearn: 0.5559814\ttotal: 883ms\tremaining: 5.91s\n",
      "26:\tlearn: 0.5534170\ttotal: 907ms\tremaining: 5.81s\n",
      "27:\tlearn: 0.5505270\ttotal: 967ms\tremaining: 5.94s\n",
      "28:\tlearn: 0.5475049\ttotal: 1.01s\tremaining: 5.94s\n",
      "29:\tlearn: 0.5455882\ttotal: 1.05s\tremaining: 5.96s\n",
      "30:\tlearn: 0.5432810\ttotal: 1.09s\tremaining: 5.97s\n",
      "31:\tlearn: 0.5411771\ttotal: 1.14s\tremaining: 6.01s\n",
      "32:\tlearn: 0.5394767\ttotal: 1.19s\tremaining: 6.04s\n",
      "33:\tlearn: 0.5366282\ttotal: 1.24s\tremaining: 6.06s\n",
      "34:\tlearn: 0.5358530\ttotal: 1.26s\tremaining: 5.93s\n",
      "35:\tlearn: 0.5347240\ttotal: 1.28s\tremaining: 5.82s\n",
      "36:\tlearn: 0.5334240\ttotal: 1.32s\tremaining: 5.83s\n",
      "37:\tlearn: 0.5317565\ttotal: 1.4s\tremaining: 5.98s\n",
      "38:\tlearn: 0.5295226\ttotal: 1.47s\tremaining: 6.07s\n",
      "39:\tlearn: 0.5282823\ttotal: 1.52s\tremaining: 6.09s\n",
      "40:\tlearn: 0.5265474\ttotal: 1.57s\tremaining: 6.1s\n",
      "41:\tlearn: 0.5261300\ttotal: 1.59s\tremaining: 5.98s\n",
      "42:\tlearn: 0.5251964\ttotal: 1.64s\tremaining: 5.98s\n",
      "43:\tlearn: 0.5237428\ttotal: 1.68s\tremaining: 5.96s\n",
      "44:\tlearn: 0.5232977\ttotal: 1.69s\tremaining: 5.83s\n",
      "45:\tlearn: 0.5217670\ttotal: 1.73s\tremaining: 5.79s\n",
      "46:\tlearn: 0.5204173\ttotal: 1.77s\tremaining: 5.77s\n",
      "47:\tlearn: 0.5188475\ttotal: 1.81s\tremaining: 5.74s\n",
      "48:\tlearn: 0.5173729\ttotal: 1.86s\tremaining: 5.75s\n",
      "49:\tlearn: 0.5157152\ttotal: 1.91s\tremaining: 5.72s\n",
      "50:\tlearn: 0.5153443\ttotal: 1.94s\tremaining: 5.66s\n",
      "51:\tlearn: 0.5137296\ttotal: 1.98s\tremaining: 5.63s\n",
      "52:\tlearn: 0.5136007\ttotal: 1.98s\tremaining: 5.5s\n",
      "53:\tlearn: 0.5122238\ttotal: 2.02s\tremaining: 5.47s\n",
      "54:\tlearn: 0.5118718\ttotal: 2.04s\tremaining: 5.39s\n",
      "55:\tlearn: 0.5101913\ttotal: 2.08s\tremaining: 5.36s\n",
      "56:\tlearn: 0.5090057\ttotal: 2.13s\tremaining: 5.35s\n",
      "57:\tlearn: 0.5074863\ttotal: 2.18s\tremaining: 5.33s\n",
      "58:\tlearn: 0.5067072\ttotal: 2.23s\tremaining: 5.32s\n",
      "59:\tlearn: 0.5058433\ttotal: 2.27s\tremaining: 5.29s\n",
      "60:\tlearn: 0.5045817\ttotal: 2.32s\tremaining: 5.28s\n",
      "61:\tlearn: 0.5035991\ttotal: 2.37s\tremaining: 5.28s\n",
      "62:\tlearn: 0.5028931\ttotal: 2.42s\tremaining: 5.26s\n",
      "63:\tlearn: 0.5026860\ttotal: 2.43s\tremaining: 5.17s\n",
      "64:\tlearn: 0.5021496\ttotal: 2.47s\tremaining: 5.13s\n",
      "65:\tlearn: 0.5010347\ttotal: 2.51s\tremaining: 5.11s\n",
      "66:\tlearn: 0.5000600\ttotal: 2.56s\tremaining: 5.08s\n",
      "67:\tlearn: 0.4991457\ttotal: 2.6s\tremaining: 5.05s\n",
      "68:\tlearn: 0.4981225\ttotal: 2.64s\tremaining: 5.02s\n",
      "69:\tlearn: 0.4980673\ttotal: 2.66s\tremaining: 4.93s\n",
      "70:\tlearn: 0.4979888\ttotal: 2.67s\tremaining: 4.85s\n",
      "71:\tlearn: 0.4964667\ttotal: 2.71s\tremaining: 4.82s\n",
      "72:\tlearn: 0.4953554\ttotal: 2.75s\tremaining: 4.79s\n",
      "73:\tlearn: 0.4945104\ttotal: 2.8s\tremaining: 4.77s\n",
      "74:\tlearn: 0.4927943\ttotal: 2.85s\tremaining: 4.74s\n",
      "75:\tlearn: 0.4916970\ttotal: 2.89s\tremaining: 4.71s\n",
      "76:\tlearn: 0.4903358\ttotal: 2.93s\tremaining: 4.68s\n",
      "77:\tlearn: 0.4898413\ttotal: 2.97s\tremaining: 4.65s\n",
      "78:\tlearn: 0.4885719\ttotal: 3.01s\tremaining: 4.61s\n",
      "79:\tlearn: 0.4880392\ttotal: 3.06s\tremaining: 4.59s\n",
      "80:\tlearn: 0.4875758\ttotal: 3.11s\tremaining: 4.57s\n",
      "81:\tlearn: 0.4866469\ttotal: 3.15s\tremaining: 4.54s\n",
      "82:\tlearn: 0.4856364\ttotal: 3.2s\tremaining: 4.51s\n",
      "83:\tlearn: 0.4849856\ttotal: 3.24s\tremaining: 4.48s\n",
      "84:\tlearn: 0.4845662\ttotal: 3.29s\tremaining: 4.46s\n",
      "85:\tlearn: 0.4836406\ttotal: 3.34s\tremaining: 4.43s\n",
      "86:\tlearn: 0.4826909\ttotal: 3.39s\tremaining: 4.4s\n",
      "87:\tlearn: 0.4816770\ttotal: 3.43s\tremaining: 4.37s\n",
      "88:\tlearn: 0.4811730\ttotal: 3.48s\tremaining: 4.34s\n",
      "89:\tlearn: 0.4806334\ttotal: 3.53s\tremaining: 4.31s\n",
      "90:\tlearn: 0.4805649\ttotal: 3.54s\tremaining: 4.24s\n",
      "91:\tlearn: 0.4789926\ttotal: 3.58s\tremaining: 4.2s\n",
      "92:\tlearn: 0.4774549\ttotal: 3.62s\tremaining: 4.17s\n",
      "93:\tlearn: 0.4767145\ttotal: 3.67s\tremaining: 4.13s\n",
      "94:\tlearn: 0.4761132\ttotal: 3.71s\tremaining: 4.1s\n",
      "95:\tlearn: 0.4749734\ttotal: 3.76s\tremaining: 4.07s\n",
      "96:\tlearn: 0.4738665\ttotal: 3.8s\tremaining: 4.03s\n",
      "97:\tlearn: 0.4724230\ttotal: 3.84s\tremaining: 4s\n",
      "98:\tlearn: 0.4716788\ttotal: 3.88s\tremaining: 3.96s\n",
      "99:\tlearn: 0.4709807\ttotal: 3.92s\tremaining: 3.92s\n",
      "100:\tlearn: 0.4704241\ttotal: 3.97s\tremaining: 3.89s\n",
      "101:\tlearn: 0.4696320\ttotal: 4.01s\tremaining: 3.85s\n",
      "102:\tlearn: 0.4685313\ttotal: 4.05s\tremaining: 3.82s\n",
      "103:\tlearn: 0.4677569\ttotal: 4.1s\tremaining: 3.78s\n",
      "104:\tlearn: 0.4663320\ttotal: 4.14s\tremaining: 3.75s\n",
      "105:\tlearn: 0.4663093\ttotal: 4.16s\tremaining: 3.69s\n",
      "106:\tlearn: 0.4659097\ttotal: 4.21s\tremaining: 3.65s\n",
      "107:\tlearn: 0.4648242\ttotal: 4.25s\tremaining: 3.62s\n",
      "108:\tlearn: 0.4638969\ttotal: 4.29s\tremaining: 3.58s\n",
      "109:\tlearn: 0.4636135\ttotal: 4.34s\tremaining: 3.55s\n",
      "110:\tlearn: 0.4635490\ttotal: 4.38s\tremaining: 3.51s\n",
      "111:\tlearn: 0.4627446\ttotal: 4.43s\tremaining: 3.48s\n",
      "112:\tlearn: 0.4617885\ttotal: 4.47s\tremaining: 3.44s\n",
      "113:\tlearn: 0.4613150\ttotal: 4.51s\tremaining: 3.4s\n",
      "114:\tlearn: 0.4607812\ttotal: 4.56s\tremaining: 3.37s\n",
      "115:\tlearn: 0.4600651\ttotal: 4.6s\tremaining: 3.33s\n",
      "116:\tlearn: 0.4595531\ttotal: 4.64s\tremaining: 3.29s\n",
      "117:\tlearn: 0.4582524\ttotal: 4.69s\tremaining: 3.26s\n",
      "118:\tlearn: 0.4575611\ttotal: 4.73s\tremaining: 3.22s\n",
      "119:\tlearn: 0.4571210\ttotal: 4.78s\tremaining: 3.19s\n",
      "120:\tlearn: 0.4564342\ttotal: 4.83s\tremaining: 3.15s\n",
      "121:\tlearn: 0.4563567\ttotal: 4.84s\tremaining: 3.1s\n",
      "122:\tlearn: 0.4557600\ttotal: 4.89s\tremaining: 3.06s\n",
      "123:\tlearn: 0.4549942\ttotal: 4.93s\tremaining: 3.02s\n",
      "124:\tlearn: 0.4543461\ttotal: 4.97s\tremaining: 2.98s\n",
      "125:\tlearn: 0.4532744\ttotal: 5.02s\tremaining: 2.95s\n",
      "126:\tlearn: 0.4525791\ttotal: 5.07s\tremaining: 2.91s\n",
      "127:\tlearn: 0.4521532\ttotal: 5.11s\tremaining: 2.87s\n",
      "128:\tlearn: 0.4516290\ttotal: 5.13s\tremaining: 2.82s\n",
      "129:\tlearn: 0.4508585\ttotal: 5.17s\tremaining: 2.78s\n",
      "130:\tlearn: 0.4503330\ttotal: 5.21s\tremaining: 2.75s\n",
      "131:\tlearn: 0.4497312\ttotal: 5.26s\tremaining: 2.71s\n",
      "132:\tlearn: 0.4490803\ttotal: 5.31s\tremaining: 2.67s\n",
      "133:\tlearn: 0.4480628\ttotal: 5.35s\tremaining: 2.64s\n",
      "134:\tlearn: 0.4474285\ttotal: 5.4s\tremaining: 2.6s\n",
      "135:\tlearn: 0.4468217\ttotal: 5.44s\tremaining: 2.56s\n",
      "136:\tlearn: 0.4463159\ttotal: 5.48s\tremaining: 2.52s\n",
      "137:\tlearn: 0.4462783\ttotal: 5.5s\tremaining: 2.47s\n",
      "138:\tlearn: 0.4462744\ttotal: 5.51s\tremaining: 2.42s\n",
      "139:\tlearn: 0.4457846\ttotal: 5.54s\tremaining: 2.38s\n",
      "140:\tlearn: 0.4451534\ttotal: 5.59s\tremaining: 2.34s\n",
      "141:\tlearn: 0.4444740\ttotal: 5.63s\tremaining: 2.3s\n",
      "142:\tlearn: 0.4434020\ttotal: 5.67s\tremaining: 2.26s\n",
      "143:\tlearn: 0.4428897\ttotal: 5.72s\tremaining: 2.22s\n",
      "144:\tlearn: 0.4425799\ttotal: 5.76s\tremaining: 2.19s\n",
      "145:\tlearn: 0.4421201\ttotal: 5.8s\tremaining: 2.15s\n",
      "146:\tlearn: 0.4420847\ttotal: 5.81s\tremaining: 2.1s\n",
      "147:\tlearn: 0.4417050\ttotal: 5.85s\tremaining: 2.06s\n",
      "148:\tlearn: 0.4412774\ttotal: 5.89s\tremaining: 2.02s\n",
      "149:\tlearn: 0.4408292\ttotal: 5.94s\tremaining: 1.98s\n",
      "150:\tlearn: 0.4397488\ttotal: 5.99s\tremaining: 1.94s\n",
      "151:\tlearn: 0.4390461\ttotal: 6.03s\tremaining: 1.9s\n",
      "152:\tlearn: 0.4390368\ttotal: 6.04s\tremaining: 1.85s\n",
      "153:\tlearn: 0.4383826\ttotal: 6.09s\tremaining: 1.82s\n",
      "154:\tlearn: 0.4371854\ttotal: 6.13s\tremaining: 1.78s\n",
      "155:\tlearn: 0.4364876\ttotal: 6.17s\tremaining: 1.74s\n",
      "156:\tlearn: 0.4361784\ttotal: 6.22s\tremaining: 1.7s\n",
      "157:\tlearn: 0.4352785\ttotal: 6.26s\tremaining: 1.67s\n",
      "158:\tlearn: 0.4352782\ttotal: 6.27s\tremaining: 1.62s\n",
      "159:\tlearn: 0.4343866\ttotal: 6.33s\tremaining: 1.58s\n",
      "160:\tlearn: 0.4338619\ttotal: 6.38s\tremaining: 1.55s\n",
      "161:\tlearn: 0.4327486\ttotal: 6.43s\tremaining: 1.51s\n",
      "162:\tlearn: 0.4323005\ttotal: 6.47s\tremaining: 1.47s\n",
      "163:\tlearn: 0.4316706\ttotal: 6.52s\tremaining: 1.43s\n",
      "164:\tlearn: 0.4314478\ttotal: 6.55s\tremaining: 1.39s\n"
     ]
    },
    {
     "name": "stdout",
     "output_type": "stream",
     "text": [
      "165:\tlearn: 0.4309673\ttotal: 6.59s\tremaining: 1.35s\n",
      "166:\tlearn: 0.4302738\ttotal: 6.64s\tremaining: 1.31s\n",
      "167:\tlearn: 0.4302683\ttotal: 6.65s\tremaining: 1.27s\n",
      "168:\tlearn: 0.4294420\ttotal: 6.69s\tremaining: 1.23s\n",
      "169:\tlearn: 0.4286515\ttotal: 6.73s\tremaining: 1.19s\n",
      "170:\tlearn: 0.4283490\ttotal: 6.78s\tremaining: 1.15s\n",
      "171:\tlearn: 0.4277915\ttotal: 6.82s\tremaining: 1.11s\n",
      "172:\tlearn: 0.4272890\ttotal: 6.86s\tremaining: 1.07s\n",
      "173:\tlearn: 0.4268463\ttotal: 6.9s\tremaining: 1.03s\n",
      "174:\tlearn: 0.4264181\ttotal: 6.94s\tremaining: 992ms\n",
      "175:\tlearn: 0.4255856\ttotal: 6.99s\tremaining: 953ms\n",
      "176:\tlearn: 0.4250409\ttotal: 7.03s\tremaining: 913ms\n",
      "177:\tlearn: 0.4246123\ttotal: 7.08s\tremaining: 875ms\n",
      "178:\tlearn: 0.4243151\ttotal: 7.12s\tremaining: 835ms\n",
      "179:\tlearn: 0.4238364\ttotal: 7.16s\tremaining: 796ms\n",
      "180:\tlearn: 0.4235413\ttotal: 7.22s\tremaining: 758ms\n",
      "181:\tlearn: 0.4227801\ttotal: 7.27s\tremaining: 719ms\n",
      "182:\tlearn: 0.4220260\ttotal: 7.32s\tremaining: 680ms\n",
      "183:\tlearn: 0.4217084\ttotal: 7.37s\tremaining: 641ms\n",
      "184:\tlearn: 0.4214831\ttotal: 7.41s\tremaining: 601ms\n",
      "185:\tlearn: 0.4208001\ttotal: 7.45s\tremaining: 561ms\n",
      "186:\tlearn: 0.4201557\ttotal: 7.5s\tremaining: 521ms\n",
      "187:\tlearn: 0.4196365\ttotal: 7.54s\tremaining: 481ms\n",
      "188:\tlearn: 0.4193574\ttotal: 7.58s\tremaining: 441ms\n",
      "189:\tlearn: 0.4187899\ttotal: 7.63s\tremaining: 401ms\n",
      "190:\tlearn: 0.4182184\ttotal: 7.67s\tremaining: 361ms\n",
      "191:\tlearn: 0.4178970\ttotal: 7.71s\tremaining: 321ms\n",
      "192:\tlearn: 0.4170299\ttotal: 7.75s\tremaining: 281ms\n",
      "193:\tlearn: 0.4165597\ttotal: 7.79s\tremaining: 241ms\n",
      "194:\tlearn: 0.4158156\ttotal: 7.84s\tremaining: 201ms\n",
      "195:\tlearn: 0.4153299\ttotal: 7.88s\tremaining: 161ms\n",
      "196:\tlearn: 0.4147261\ttotal: 7.92s\tremaining: 121ms\n",
      "197:\tlearn: 0.4139752\ttotal: 7.96s\tremaining: 80.5ms\n",
      "198:\tlearn: 0.4129034\ttotal: 8.01s\tremaining: 40.3ms\n",
      "199:\tlearn: 0.4120826\ttotal: 8.05s\tremaining: 0us\n",
      "Wall time: 1min 49s\n"
     ]
    },
    {
     "data": {
      "text/plain": [
       "RandomizedSearchCV(cv=KFold(n_splits=3, random_state=21, shuffle=True),\n",
       "                   estimator=<catboost.core.CatBoostClassifier object at 0x00000200667E0BE0>,\n",
       "                   n_jobs=-1,\n",
       "                   param_distributions={'bagging_temperature': [1, 1.5, 2],\n",
       "                                        'depth': [3, 5, 7, 9],\n",
       "                                        'iterations': [50, 100, 200, 500, 700,\n",
       "                                                       1000, 1200, 1500],\n",
       "                                        'l2_leaf_reg': [2, 2.5, 3, 3.5, 4],\n",
       "                                        'learning_rate': [0.03, 0.1, 0.3]})"
      ]
     },
     "execution_count": 662,
     "metadata": {},
     "output_type": "execute_result"
    }
   ],
   "source": [
    "%%time\n",
    "\n",
    "rs = RandomizedSearchCV(model_catb, params, cv = cv, n_jobs = -1)\n",
    "rs.fit(X_train, y_train, cat_features = CAT_FEATURE_NAMES)"
   ]
  },
  {
   "cell_type": "code",
   "execution_count": 664,
   "id": "228d8631",
   "metadata": {},
   "outputs": [
    {
     "data": {
      "text/plain": [
       "{'learning_rate': 0.03,\n",
       " 'l2_leaf_reg': 3,\n",
       " 'iterations': 200,\n",
       " 'depth': 9,\n",
       " 'bagging_temperature': 1}"
      ]
     },
     "execution_count": 664,
     "metadata": {},
     "output_type": "execute_result"
    }
   ],
   "source": [
    "rs.best_params_"
   ]
  },
  {
   "cell_type": "code",
   "execution_count": 689,
   "id": "3331e0c3",
   "metadata": {},
   "outputs": [
    {
     "name": "stdout",
     "output_type": "stream",
     "text": [
      "TRAIN\n",
      "\n",
      "              precision    recall  f1-score   support\n",
      "\n",
      "           0       0.92      0.72      0.81      3771\n",
      "           1       0.54      0.84      0.66      1479\n",
      "\n",
      "    accuracy                           0.76      5250\n",
      "   macro avg       0.73      0.78      0.73      5250\n",
      "weighted avg       0.81      0.76      0.77      5250\n",
      "\n",
      "TEST\n",
      "\n",
      "              precision    recall  f1-score   support\n",
      "\n",
      "           0       0.82      0.62      0.71      1616\n",
      "           1       0.41      0.66      0.51       634\n",
      "\n",
      "    accuracy                           0.63      2250\n",
      "   macro avg       0.62      0.64      0.61      2250\n",
      "weighted avg       0.71      0.63      0.65      2250\n",
      "\n",
      "CONFUSION MATRIX\n",
      "\n",
      "col_0              0    1\n",
      "Credit Default           \n",
      "0               1008  608\n",
      "1                214  420\n"
     ]
    }
   ],
   "source": [
    "best_model = catb.CatBoostClassifier(silent=True, random_state=21,\n",
    "                                     auto_class_weights = 'Balanced',\n",
    "                                     iterations = 200, max_depth = 9,\n",
    "                                     learning_rate = 0.03, l2_leaf_reg = 3,\n",
    "                                     bagging_temperature = 1,\n",
    "                                     use_best_model = True,\n",
    "                                    )\n",
    "\n",
    "best_model.fit(X_train, y_train, cat_features = CAT_FEATURE_NAMES, eval_set=(X_valid, y_valid))\n",
    "\n",
    "y_train_pred = best_model.predict(X_train)\n",
    "y_valid_pred = best_model.predict(X_valid)\n",
    "\n",
    "get_classification_report(y_train, y_train_pred, y_valid, y_valid_pred)"
   ]
  },
  {
   "cell_type": "markdown",
   "id": "39da1aa1",
   "metadata": {},
   "source": [
    "### Важность признаков"
   ]
  },
  {
   "cell_type": "code",
   "execution_count": 690,
   "id": "c3aab1e9",
   "metadata": {},
   "outputs": [
    {
     "data": {
      "image/png": "[encoded data removed]",
      "text/plain": [
       "<Figure size 1440x996.84 with 1 Axes>"
      ]
     },
     "metadata": {
      "needs_background": "light"
     },
     "output_type": "display_data"
    }
   ],
   "source": [
    "important_features_top = show_feature_importances(X_train.columns, best_model.feature_importances_, get_top=15)"
   ]
  },
  {
   "cell_type": "code",
   "execution_count": 700,
   "id": "9f3fffaf",
   "metadata": {},
   "outputs": [
    {
     "name": "stdout",
     "output_type": "stream",
     "text": [
      "TRAIN\n",
      "\n",
      "              precision    recall  f1-score   support\n",
      "\n",
      "           0       0.92      0.71      0.80      3771\n",
      "           1       0.53      0.83      0.65      1479\n",
      "\n",
      "    accuracy                           0.75      5250\n",
      "   macro avg       0.72      0.77      0.72      5250\n",
      "weighted avg       0.81      0.75      0.76      5250\n",
      "\n",
      "TEST\n",
      "\n",
      "              precision    recall  f1-score   support\n",
      "\n",
      "           0       0.83      0.62      0.71      1616\n",
      "           1       0.41      0.68      0.51       634\n",
      "\n",
      "    accuracy                           0.64      2250\n",
      "   macro avg       0.62      0.65      0.61      2250\n",
      "weighted avg       0.71      0.64      0.66      2250\n",
      "\n",
      "CONFUSION MATRIX\n",
      "\n",
      "col_0              0    1\n",
      "Credit Default           \n",
      "0               1008  608\n",
      "1                205  429\n"
     ]
    }
   ],
   "source": [
    "importances_model = catb.CatBoostClassifier(silent=True, random_state=21,\n",
    "                                     auto_class_weights = 'Balanced',\n",
    "                                     iterations = 200, max_depth = 9,\n",
    "                                     learning_rate = 0.03, l2_leaf_reg = 3,\n",
    "                                     bagging_temperature = 1,\n",
    "                                     use_best_model = True,\n",
    "                                    )\n",
    "\n",
    "NEW_CAT_FEATURE_NAMES = list(set(important_features_top) - set(NUM_FEATURE_NAMES)) \n",
    "\n",
    "importances_model.fit(X_train[important_features_top], y_train, cat_features = NEW_CAT_FEATURE_NAMES, eval_set=(X_valid[important_features_top], y_valid))\n",
    "\n",
    "y_train_pred = importances_model.predict(X_train[important_features_top])\n",
    "y_valid_pred = importances_model.predict(X_valid[important_features_top])\n",
    "\n",
    "get_classification_report(y_train, y_train_pred, y_valid, y_valid_pred)"
   ]
  },
  {
   "cell_type": "markdown",
   "id": "293547c2",
   "metadata": {},
   "source": [
    "### Финальная модель"
   ]
  },
  {
   "cell_type": "code",
   "execution_count": 716,
   "id": "62f99c7d",
   "metadata": {},
   "outputs": [],
   "source": [
    "predictions = best_model.predict(df_test)"
   ]
  },
  {
   "cell_type": "code",
   "execution_count": 717,
   "id": "2847eab0",
   "metadata": {},
   "outputs": [
    {
     "data": {
      "text/plain": [
       "(2500,)"
      ]
     },
     "execution_count": 717,
     "metadata": {},
     "output_type": "execute_result"
    }
   ],
   "source": [
    "predictions.shape"
   ]
  },
  {
   "cell_type": "code",
   "execution_count": 721,
   "id": "0ab89bfa",
   "metadata": {},
   "outputs": [
    {
     "data": {
      "text/html": [
       "<div>\n",
       "<style scoped>\n",
       "    .dataframe tbody tr th:only-of-type {\n",
       "        vertical-align: middle;\n",
       "    }\n",
       "\n",
       "    .dataframe tbody tr th {\n",
       "        vertical-align: top;\n",
       "    }\n",
       "\n",
       "    .dataframe thead th {\n",
       "        text-align: right;\n",
       "    }\n",
       "</style>\n",
       "<table border=\"1\" class=\"dataframe\">\n",
       "  <thead>\n",
       "    <tr style=\"text-align: right;\">\n",
       "      <th></th>\n",
       "      <th>Id</th>\n",
       "      <th>Credit Default</th>\n",
       "    </tr>\n",
       "  </thead>\n",
       "  <tbody>\n",
       "    <tr>\n",
       "      <th>0</th>\n",
       "      <td>0</td>\n",
       "      <td>1</td>\n",
       "    </tr>\n",
       "    <tr>\n",
       "      <th>1</th>\n",
       "      <td>1</td>\n",
       "      <td>1</td>\n",
       "    </tr>\n",
       "    <tr>\n",
       "      <th>2</th>\n",
       "      <td>2</td>\n",
       "      <td>0</td>\n",
       "    </tr>\n",
       "    <tr>\n",
       "      <th>3</th>\n",
       "      <td>3</td>\n",
       "      <td>0</td>\n",
       "    </tr>\n",
       "    <tr>\n",
       "      <th>4</th>\n",
       "      <td>4</td>\n",
       "      <td>0</td>\n",
       "    </tr>\n",
       "  </tbody>\n",
       "</table>\n",
       "</div>"
      ],
      "text/plain": [
       "   Id  Credit Default\n",
       "0   0               1\n",
       "1   1               1\n",
       "2   2               0\n",
       "3   3               0\n",
       "4   4               0"
      ]
     },
     "execution_count": 721,
     "metadata": {},
     "output_type": "execute_result"
    }
   ],
   "source": [
    "result = pd.DataFrame({'Id':np.arange(2500), 'Credit Default': predictions})\n",
    "result.head()"
   ]
  },
  {
   "cell_type": "code",
   "execution_count": 723,
   "id": "aaf4a207",
   "metadata": {},
   "outputs": [],
   "source": [
    "result.to_csv('Martynov_IM_predictions.csv', index=False)"
   ]
  }
 ],
 "metadata": {
  "kernelspec": {
   "display_name": "Python 3 (ipykernel)",
   "language": "python",
   "name": "python3"
  },
  "language_info": {
   "codemirror_mode": {
    "name": "ipython",
    "version": 3
   },
   "file_extension": ".py",
   "mimetype": "text/x-python",
   "name": "python",
   "nbconvert_exporter": "python",
   "pygments_lexer": "ipython3",
   "version": "3.9.7"
  }
 },
 "nbformat": 4,
 "nbformat_minor": 5
}
