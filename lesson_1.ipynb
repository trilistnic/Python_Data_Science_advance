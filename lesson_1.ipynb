{
 "cells": [
  {
   "cell_type": "markdown",
   "id": "a9a5f51b",
   "metadata": {},
   "source": [
    "# Урок 1. Введение в задачу классификации. Постановка задачи и подготовка данных."
   ]
  },
  {
   "cell_type": "markdown",
   "id": "58e67dc8",
   "metadata": {},
   "source": [
    "### 1. Приведите по 2 примера, когда лучше максимизировать Precision, а когда Recall."
   ]
  },
  {
   "cell_type": "markdown",
   "id": "cd6eaa5b",
   "metadata": {},
   "source": [
    "Precision\n",
    "1) Определение спасма в электронной почте.\n",
    "2) Создание системы рекомендаций, например, видео для пользователя.\n",
    "\n",
    "Recall\n",
    "1) Найти все объекты, например, людей на фотографии. \n",
    "2) Поставить диагноз о наличии болезни."
   ]
  },
  {
   "cell_type": "markdown",
   "id": "73b8054d",
   "metadata": {},
   "source": [
    "### 2. Почему мы используем F-меру, почему, например, нельзя просто взять среднее от Precision и Recall?"
   ]
  },
  {
   "cell_type": "markdown",
   "id": "60c8ca9a",
   "metadata": {},
   "source": [
    "F-мера является среднее гармоническим значением между Precision и Recall и оценивает совокупно как Precision, так и Recall и может увеличивать или уменьшать их влияние."
   ]
  }
 ],
 "metadata": {
  "kernelspec": {
   "display_name": "Python 3 (ipykernel)",
   "language": "python",
   "name": "python3"
  },
  "language_info": {
   "codemirror_mode": {
    "name": "ipython",
    "version": 3
   },
   "file_extension": ".py",
   "mimetype": "text/x-python",
   "name": "python",
   "nbconvert_exporter": "python",
   "pygments_lexer": "ipython3",
   "version": "3.9.7"
  }
 },
 "nbformat": 4,
 "nbformat_minor": 5
}
